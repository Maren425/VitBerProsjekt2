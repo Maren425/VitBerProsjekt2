{
 "cells": [
  {
   "cell_type": "markdown",
   "metadata": {},
   "source": [
    "### Introduksjon"
   ]
  },
  {
   "cell_type": "code",
   "execution_count": null,
   "metadata": {},
   "outputs": [],
   "source": [
    "import numpy as np\n",
    "import matplotlib.pyplot as plt\n",
    "#import random as rand\n",
    "#from scipy.stats import norm\n",
    "#import scipy.integrate as integrate\n",
    "#from scipy import special\n",
    "\n",
    "import os\n",
    "import struct\n",
    "from array import array as pyarray\n",
    "import math\n"
   ]
  },
  {
   "cell_type": "code",
   "execution_count": null,
   "metadata": {},
   "outputs": [],
   "source": [
    " def sigma(x)
    return np.tanh(x)

def sigma_devrivert(x):
    return 1/(np.cosh(x))**2

def eta(x):
    return 1/2*(1+np.tanh(x/2))

def eta_derivert(x):
    return (np.cosh(x/2))**2/(np.cosh(x)+1)**2"
   ]
  }
  {
   "cell_type": "code",
   "execution_count": null,
   "metadata": {},
   "outputs": [],
   "source": [
    "def Alogoritme(K, tau, ):          #Må ha bedre navn!!!"
   ]
  },
  {
   "cell_type": "markdown",
   "metadata": {},
   "source": [
    "#### Utgitt kode (loader)"
   ]
  },
  {
   "cell_type": "code",
   "execution_count": null,
   "metadata": {},
   "outputs": [],
   "source": [
    "def load_mnist(dataset=\"training\", digits=np.arange(10), path=\".\", size = 60000):\n",
    "    if dataset == \"training\":\n",
    "        fname_img = os.path.join(path, 'train-images.idx3-ubyte')\n",
    "        fname_lbl = os.path.join(path, 'train-labels.idx1-ubyte')\n",
    "    elif dataset == \"testing\":\n",
    "        fname_img = os.path.join(path, 't10k-images.idx3-ubyte')\n",
    "        fname_lbl = os.path.join(path, 't10k-labels.idx1-ubyte')\n",
    "    \n",
    "    else:\n",
    "        raise ValueError(\"dataset must be 'testing' or 'training'\")\n",
    "\n",
    "    flbl = open(fname_lbl, 'rb')\n",
    "    magic_nr, size = struct.unpack(\">II\", flbl.read(8))\n",
    "    lbl = pyarray(\"b\", flbl.read())\n",
    "    flbl.close()\n",
    "\n",
    "    fimg = open(fname_img, 'rb')\n",
    "    magic_nr, size, rows, cols = struct.unpack(\">IIII\", fimg.read(16))\n",
    "    img = pyarray(\"B\", fimg.read())\n",
    "    fimg.close()\n",
    "\n",
    "    ind = [ k for k in range(size) if lbl[k] in digits ]\n",
    "    N = size #int(len(ind) * size/100.)\n",
    "    images = np.zeros((N, rows, cols), dtype=np.uint8)\n",
    "    labels = np.zeros((N, 1), dtype=np.int8)\n",
    "    for i in range(N): #int(len(ind) * size/100.)):\n",
    "        images[i] = np.array(img[ ind[i]*rows*cols : (ind[i]+1)*rows*cols ])\\\n",
    "            .reshape((rows, cols))\n",
    "        labels[i] = lbl[ind[i]]\n",
    "    labels = [label[0] for label in labels]\n",
    "    return images, labels\n",
    "\n",
    "\n",
    "def load_dataset(dataset=\"training\", digit1=2, digit2=7, path=\".\"):\n",
    "    images, labels = load_mnist(dataset=dataset, path=path)\n",
    "    images = np.reshape(images, newshape=(60000,-1), order='C') # Create (60 000 x whatever) 2D-matrix.\n",
    "    labels = np.array(labels)\n",
    "    label_indexes = (labels == digit1) | (labels == digit2)\n",
    "    labels = labels[label_indexes]\n",
    "    images = images[label_indexes]\n",
    "    return images, labels\n"
   ]
  },
  {
   "cell_type": "markdown",
   "metadata": {},
   "source": [
    "#### Utgitt kode (plotting)"
   ]
  },
  {
   "cell_type": "code",
   "execution_count": null,
   "metadata": {},
   "outputs": [],
   "source": [
    "def plot_progression(Y, C):\n",
    "    for k in range(Y.shape[0]):\n",
    "        show_dots(Y[k,:,:],C)\n",
    "        plt.show()\n",
    "\n",
    "\n",
    "def plot_model(model, Ys, C, n):\n",
    "    grid, coordinates = get_grid_and_stuff(Ys, n)\n",
    "\n",
    "    Z = model.fast_forward(grid)\n",
    "    l = np.linspace(0,1,8)\n",
    "    l = np.array([shading(shading2(x)) for x in l])\n",
    "\n",
    "    plot_contours(*coordinates, Z, l, Ys, C)\n",
    "\n",
    "\n",
    "def plot_separation(model, Ys, C, n):\n",
    "    grid, coordinates = get_grid_and_stuff(Ys, n)\n",
    "\n",
    "    Z = model.fast_landscape(grid)\n",
    "    l = np.linspace(0,1,500)\n",
    "\n",
    "    plot_contours(*coordinates, Z, l, Ys, C)\n",
    "\n",
    "\n",
    "######## Internals\n",
    "\n",
    "def show_dots(positions, labels):\n",
    "    '''Visualize the output of get_data_spiral_2d'''\n",
    "    plt.scatter(x=positions[0,:], y=positions[1,:], s=1, c=labels, cmap='bwr')\n",
    "    plt.axis([-1.2, 1.2, -1.2, 1.2])\n",
    "    plt.axis('square')\n",
    "\n",
    "\n",
    "def shading(x):\n",
    "    if x == 0.0:\n",
    "        return 0.0\n",
    "    return 0.5 * np.tanh(np.tan(x * np.pi + np.pi / 2.0)) + 0.5\n",
    "\n",
    "\n",
    "def shading2(x):\n",
    "    if x < 0.5:\n",
    "        return 0.5 - np.sqrt(0.25 - x**2)\n",
    "    else:\n",
    "        return 0.5 + np.sqrt(0.25 -(x-1.0)**2)\n",
    "\n",
    "def get_box(Ys):\n",
    "    xmin = min(Ys[0,:])\n",
    "    xmax = max(Ys[0,:])\n",
    "    xdelta = xmax-xmin\n",
    "    xmin -= 0.2*xdelta\n",
    "    xmax += 0.2*xdelta\n",
    "    ymin = min(Ys[1,:])\n",
    "    ymax = max(Ys[1,:])\n",
    "    ydelta = ymax-ymin\n",
    "    ymin -= 0.2*ydelta\n",
    "    ymax += 0.2*ydelta\n",
    "    return xmin, xmax, ymin, ymax\n",
    "\n",
    "    \n",
    "def get_grid(xcoordinates, ycoordinates):\n",
    "    xv, yv = np.meshgrid(xcoordinates, ycoordinates)\n",
    "    xs = xv.reshape(-1)\n",
    "    ys= yv.reshape(-1)\n",
    "    grid = np.stack([xs,ys])\n",
    "    return grid\n",
    "\n",
    "\n",
    "def get_grid_and_stuff(Ys, n):\n",
    "    xmin, xmax, ymin, ymax = get_box(Ys)\n",
    "    xcoordinates = np.linspace(xmin, xmax, n)\n",
    "    ycoordinates = np.linspace(ymin, ymax, n)\n",
    "    grid = get_grid(xcoordinates, ycoordinates)\n",
    "    coordinates = ([xmin, xmax, ymin, ymax], xcoordinates, ycoordinates)\n",
    "    return grid, coordinates\n",
    "\n",
    "\n",
    "def plot_contours(box, xcoordinates, ycoordinates, Z, l, Ys, C1):\n",
    "    n = xcoordinates.size\n",
    "    plt.contourf(xcoordinates, ycoordinates, Z.reshape((n,n)), cmap='seismic', levels=l)\n",
    "    plt.contour(xcoordinates, ycoordinates, Z.reshape((n,n)), levels=1, colors='k')\n",
    "    plt.scatter(x=Ys[0,:], y=Ys[1,:], s=1, c=C1, cmap='bwr')\n",
    "    plt.axis(box)\n",
    "    plt.axis('equal')\n",
    "    plt.show()"
   ]
  },
  {
   "cell_type": "markdown",
   "metadata": {},
   "source": [
    "#### Utgitt kode (spirals)"
   ]
  },
  {
   "cell_type": "code",
   "execution_count": null,
   "metadata": {},
   "outputs": [],
   "source": [
    "def get_data_spiral_2d(n_samples=200):\n",
    "    '''Create \"observations\" for training.\n",
    "    \n",
    "    Creates n_samples dots on two intertwined spirals.\n",
    "    The dots are classified based on which spiral they belong to and\n",
    "    then fuzzed by perturbing the coordinates and permuting the ordering.'''\n",
    "    m1 = math.ceil(n_samples / 2)\n",
    "    m2 = n_samples - m1\n",
    "    \n",
    "    n_turns = 1.0\n",
    "    \n",
    "    phi1 = np.pi\n",
    "    d1 = make_spiral(m1, phi1, n_turns)\n",
    "\n",
    "    \n",
    "    phi2 = (phi1 + np.pi) % (2.0 * np.pi)\n",
    "    d2 = make_spiral(m2, phi2, n_turns)\n",
    "    \n",
    "    features = np.hstack((d1, d2))\n",
    "    labels = np.ones((n_samples,1), dtype='bool_')\n",
    "    labels[m1:] = False\n",
    "    \n",
    "    features = features + .05 * np.random.randn(*features.shape)\n",
    "    \n",
    "    indexes = np.random.permutation(n_samples)\n",
    "    features = features[:, indexes]\n",
    "    labels = labels[indexes]\n",
    "\n",
    "\n",
    "    return features, labels\n",
    "\n",
    "\n",
    "def make_spiral(m, phi, n_turns):\n",
    "    '''Makes points on a spiral\n",
    "    \n",
    "    This is a utility function for get_data_spiral_2d'''\n",
    "    r = np.linspace(0.1, 1.0, m)\n",
    "    a = np.linspace(0.1, 2.0 * np.pi * n_turns, m)\n",
    "    xs = r * np.cos(a + phi)\n",
    "    ys = r * np.sin(a + phi)\n",
    "    return np.stack([xs, ys])"
   ]
  },
  {
   "cell_type": "markdown",
   "metadata": {},
   "source": [
    "#### Adam descent alogroritme "
   ]
  },
  {
   "cell_type": "code",
   "execution_count": null,
   "metadata": {},
   "outputs": [],
   "source": [
    "def AdamDescent(d, U):          #Må endre på koden smartere her\n",
    "    beta = np.asarray([0.9,0.999])\n",
    "    alpha = 0.01\n",
    "    epsilon = 1E-8\n",
    "    v_0 = np.array([0]*d)\n",
    "    m_0 = np.array([0]*d)\n",
    "    for j in range(1, d):\n",
    "        g = #gradienten av J(U), hvordan??\n",
    "        m[j] = beta[0]*m[j-1] + (1-beta[0])*g\n",
    "        v[j] = beta[1]*v[j-1] + (1-beta[1])*np.multiply(g,g)\n",
    "        m_hat = m[j]/(1-beta[0]**2)\n",
    "        v_hat = v[j]/(1-beta[1]**2)\n",
    "        U[j+1] = U[j] - alpha*m_hat/(np.sqrt(v_hat)+epsilon)\n",
    "    return U\n",
    "    "
   ]
  }
 ],
 "metadata": {
  "kernelspec": {
   "display_name": "Python 3",
   "language": "python",
   "name": "python3"
  },
  "language_info": {
   "codemirror_mode": {
    "name": "ipython",
    "version": 3
   },
   "file_extension": ".py",
   "mimetype": "text/x-python",
   "name": "python",
   "nbconvert_exporter": "python",
   "pygments_lexer": "ipython3",
   "version": "3.7.3"
  }
 },
 "nbformat": 4,
 "nbformat_minor": 2
}
